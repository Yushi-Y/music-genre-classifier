{
 "cells": [
  {
   "cell_type": "markdown",
   "metadata": {},
   "source": [
    "Imports"
   ]
  },
  {
   "cell_type": "code",
   "execution_count": 2,
   "metadata": {},
   "outputs": [],
   "source": [
    "# Standard scientific Python imports\n",
    "import matplotlib.pyplot as plt\n",
    "import pandas as pd\n",
    "import seaborn as sns # for visualisation\n",
    "import numpy as np\n",
    "\n",
    "\n",
    "from sklearn.pipeline import Pipeline\n",
    "\n",
    "from sklearn.preprocessing import QuantileTransformer\n",
    "from sklearn.preprocessing import StandardScaler\n",
    "from sklearn.decomposition import PCA\n",
    "from sklearn.discriminant_analysis import LinearDiscriminantAnalysis\n",
    "from sklearn import linear_model\n",
    "from sklearn.neighbors import KNeighborsClassifier\n",
    "\n",
    "\n",
    "\n",
    "from sklearn.model_selection import train_test_split\n",
    "from sklearn.model_selection import cross_validate\n",
    "from sklearn.model_selection import cross_val_score\n",
    "from sklearn.model_selection import cross_val_predict\n",
    "from sklearn.model_selection import RepeatedStratifiedKFold\n",
    "from sklearn.model_selection import GridSearchCV\n",
    "\n",
    "import random\n",
    "random.seed(15)\n",
    "\n",
    "# Default plotting parameters\n",
    "font = {'size'   : 18}\n",
    "plt.rc('font', **font)"
   ]
  },
  {
   "cell_type": "code",
   "execution_count": 3,
   "metadata": {},
   "outputs": [],
   "source": [
    "# Function to format the predictions in a dataframe and export to a csv file, to be uploaded on kaggle\n",
    "def export_to_csv(y_hat, filename):\n",
    "    df = pd.DataFrame({'Genre': y_hat})\n",
    "    df.index.name = 'Id'\n",
    "    df.to_csv(filename)"
   ]
  },
  {
   "cell_type": "code",
   "execution_count": 4,
   "metadata": {},
   "outputs": [],
   "source": [
    "# Load training dataset\n",
    "rep = 'data/' # repertory where the data are stored in practical folder\n",
    "y_train = pd.read_csv(rep + 'y_train.csv', index_col = 0, squeeze=True)\n",
    "X_train = pd.read_csv(rep + 'X_train.csv', index_col = 0, header=[0, 1, 2]) #sets up header to be tuple\n",
    "X_test = pd.read_csv(rep + 'X_test.csv', index_col = 0, header=[0, 1, 2])\n",
    "\n",
    "\n",
    "#Create version with them together\n",
    "Xy = pd.concat([X_train, y_train], axis = 1)\n",
    "\n",
    "#standard scaler\n",
    "scaler = StandardScaler()\n",
    "scaler.fit(X_train)\n",
    "X_train_sc = scaler.transform(X_train)\n",
    "X_test_sc = scaler.transform(X_test)"
   ]
  },
  {
   "cell_type": "markdown",
   "metadata": {},
   "source": [
    "# Overall Functions"
   ]
  },
  {
   "cell_type": "code",
   "execution_count": 7,
   "metadata": {},
   "outputs": [],
   "source": [
    "def KNN_grid_search(clf, X, y, cv, max_k):\n",
    "    #Grid Search      \n",
    "    grid = dict()\n",
    "    grid['n_neighbors'] = np.arange(1,max_k) \n",
    "    # define search\n",
    "    search = GridSearchCV(clf, grid, scoring='accuracy', cv=cv, n_jobs=-1)\n",
    "    # perform the search\n",
    "    results = search.fit(X, y)\n",
    "    print('Mean Validation Accuracy: %.3f' % results.best_score_)      \n",
    "    print('Config: %s' % results.best_params_)\n",
    "    return(results)"
   ]
  },
  {
   "cell_type": "markdown",
   "metadata": {},
   "source": [
    "# K Nearest Neighbors for untransformed data"
   ]
  },
  {
   "cell_type": "markdown",
   "metadata": {},
   "source": [
    "Grid search. Performance isn't great. Very slow to do this on unprojected data, larger grid search not feasible"
   ]
  },
  {
   "cell_type": "code",
   "execution_count": 8,
   "metadata": {},
   "outputs": [
    {
     "name": "stdout",
     "output_type": "stream",
     "text": [
      "Mean Validation Accuracy: 0.467\n",
      "Config: {'n_neighbors': 4}\n"
     ]
    },
    {
     "data": {
      "text/plain": [
       "GridSearchCV(cv=RepeatedStratifiedKFold(n_repeats=1, n_splits=4, random_state=25),\n",
       "             estimator=KNeighborsClassifier(n_neighbors=1, p=1), n_jobs=-1,\n",
       "             param_grid={'n_neighbors': array([1, 2, 3, 4])},\n",
       "             scoring='accuracy')"
      ]
     },
     "execution_count": 8,
     "metadata": {},
     "output_type": "execute_result"
    }
   ],
   "source": [
    "#Train-test split\n",
    "X_tr, X_te, y_tr, y_te = train_test_split(X_train_sc, y_train , test_size = 0.20 , random_state=15)\n",
    "\n",
    "KNN = KNeighborsClassifier(n_neighbors = 1, metric = 'minkowski', p = 2) #p=2 euclidean, p=1 L1\n",
    "cv = RepeatedStratifiedKFold(n_splits = 4, n_repeats = 1, random_state = 25)\n",
    "#will give splits of 1200 -- about size of our test set\n",
    "\n",
    "KNN_grid_search(KNN, X_tr, y_tr, cv, 10)"
   ]
  },
  {
   "cell_type": "markdown",
   "metadata": {},
   "source": [
    "Training this on the full training set from train-test split above"
   ]
  },
  {
   "cell_type": "code",
   "execution_count": 9,
   "metadata": {},
   "outputs": [
    {
     "data": {
      "text/plain": [
       "0.4608333333333333"
      ]
     },
     "execution_count": 9,
     "metadata": {},
     "output_type": "execute_result"
    }
   ],
   "source": [
    "k = 7\n",
    "KNN = KNeighborsClassifier(n_neighbors = k, metric = 'minkowski', p = 2) #p=2 euclidean, p=1 L1      \n",
    "KNN.fit(X_tr,y_tr)\n",
    "KNN.score(X_te,y_te) "
   ]
  },
  {
   "cell_type": "markdown",
   "metadata": {},
   "source": [
    "# KNN while first projecting the data onto LDA discriminant coordinates \n",
    "\n",
    "1. Fit LDA projections on X_tr\n",
    "2. Transform \n",
    "3. Do cross validation for KNN\n",
    "4. Learn final KNN model on training data\n",
    "5. Apply LDA projection to held-out validation set and then apply KNN to that\n",
    "\n",
    "*note: scaled vs not didn't seem to make a difference"
   ]
  },
  {
   "cell_type": "code",
   "execution_count": 11,
   "metadata": {},
   "outputs": [],
   "source": [
    "#Train-test split\n",
    "X_tr, X_te, y_tr, y_te = train_test_split(X_train_sc, y_train , test_size = 0.20 , random_state=15)\n",
    "\n",
    "#Fit LDA projections on training data, obtain projections for both train and test\n",
    "LDA = LinearDiscriminantAnalysis(n_components = 7)\n",
    "LDA.fit(X_tr, y_tr)\n",
    "Z_tr = LDA.transform(X_tr)\n",
    "Z_te = LDA.transform(X_te)"
   ]
  },
  {
   "cell_type": "code",
   "execution_count": 12,
   "metadata": {},
   "outputs": [
    {
     "name": "stdout",
     "output_type": "stream",
     "text": [
      "Mean Validation Accuracy: 0.705\n",
      "Config: {'n_neighbors': 59}\n"
     ]
    }
   ],
   "source": [
    "#cross validation for KNN\n",
    "KNN = KNeighborsClassifier()\n",
    "cv = RepeatedStratifiedKFold(n_splits = 4, n_repeats = 1, random_state = 25)\n",
    "#will give splits of 1200 -- about size of our test set\n",
    "\n",
    "results = KNN_grid_search(KNN, Z_tr, y_tr, cv, 100)"
   ]
  },
  {
   "cell_type": "code",
   "execution_count": 136,
   "metadata": {},
   "outputs": [
    {
     "name": "stdout",
     "output_type": "stream",
     "text": [
      "0.5508333333333333\n"
     ]
    },
    {
     "data": {
      "text/plain": [
       "[<matplotlib.lines.Line2D at 0x292500140b8>]"
      ]
     },
     "execution_count": 136,
     "metadata": {},
     "output_type": "execute_result"
    },
    {
     "data": {
      "image/png": "[encoded data removed]",
      "text/plain": [
       "<Figure size 432x288 with 1 Axes>"
      ]
     },
     "metadata": {
      "needs_background": "light"
     },
     "output_type": "display_data"
    }
   ],
   "source": [
    "nk = 150\n",
    "kval = np.arange(1,nk+1)\n",
    "KNN_acc = np.zeros(nk)\n",
    "\n",
    "for i,k in enumerate(kval):\n",
    "    KNN = KNeighborsClassifier(n_neighbors = k)        \n",
    "    KNN.fit(Z_tr,y_tr)\n",
    "    KNN_acc[i] = KNN.score(Z_te,y_te) \n",
    "    \n",
    "print(np.max(KNN_acc))\n",
    "plt.plot(kval, KNN_acc)"
   ]
  },
  {
   "cell_type": "code",
   "execution_count": 13,
   "metadata": {},
   "outputs": [
    {
     "data": {
      "text/plain": [
       "0.5416666666666666"
      ]
     },
     "execution_count": 13,
     "metadata": {},
     "output_type": "execute_result"
    }
   ],
   "source": [
    "#Fit n_neighbors = 59 from crossval\n",
    "KNN = KNeighborsClassifier(n_neighbors = 59)        \n",
    "KNN.fit(Z_tr,y_tr)\n",
    "KNN.score(Z_te,y_te) "
   ]
  },
  {
   "cell_type": "markdown",
   "metadata": {},
   "source": [
    "Applying this to full data"
   ]
  },
  {
   "cell_type": "code",
   "execution_count": 14,
   "metadata": {},
   "outputs": [
    {
     "name": "stdout",
     "output_type": "stream",
     "text": [
      "Training accuracy: 0.6936666666666667\n"
     ]
    }
   ],
   "source": [
    "#Fit LDA projections on training data, obtain projections for both train and test\n",
    "LDA = LinearDiscriminantAnalysis(n_components = 7)\n",
    "LDA.fit(X_train_sc, y_train)\n",
    "Z_train = LDA.transform(X_train_sc)\n",
    "Z_test = LDA.transform(X_test_sc)\n",
    "\n",
    "#fit KNN model on training data\n",
    "KNN = KNeighborsClassifier(n_neighbors = 59)\n",
    "KNN.fit(Z_train,y_train)\n",
    "print(\"Training accuracy:\", KNN.score(Z_train,y_train))\n",
    "#obtain predictions\n",
    "y_vals = KNN.predict(Z_test)"
   ]
  },
  {
   "cell_type": "code",
   "execution_count": 15,
   "metadata": {},
   "outputs": [],
   "source": [
    "#export_to_csv(y_vals, \"KNN_Predictions1.csv\")"
   ]
  },
  {
   "cell_type": "markdown",
   "metadata": {},
   "source": [
    "# Experimenting with quantile transforms\n",
    "\n",
    "https://machinelearningmastery.com/quantile-transforms-for-machine-learning/\n",
    "\n",
    "https://machinelearningmastery.com/linear-discriminant-analysis-for-dimensionality-reduction-in-python/\n",
    "\n",
    "Overall, normal seems to do slightly better"
   ]
  },
  {
   "cell_type": "code",
   "execution_count": 16,
   "metadata": {},
   "outputs": [
    {
     "data": {
      "text/plain": [
       "0.5645"
      ]
     },
     "execution_count": 16,
     "metadata": {},
     "output_type": "execute_result"
    }
   ],
   "source": [
    "# define pipeline\n",
    "trans = QuantileTransformer(n_quantiles=100, output_distribution='normal')\n",
    "LDA = LinearDiscriminantAnalysis(n_components = 7)\n",
    "model = KNeighborsClassifier(n_neighbors = 62)\n",
    "\n",
    "pipeline = Pipeline(steps=[('t', trans), ('lda', LDA), ('m', model)])\n",
    "\n",
    "# evaluate the pipeline\n",
    "cv = RepeatedStratifiedKFold(n_splits=4, n_repeats=3, random_state=1)\n",
    "n_scores = cross_val_score(pipeline, X_train, y_train, scoring='accuracy', cv=cv, n_jobs=-1, error_score='raise')\n",
    "\n",
    "np.mean(n_scores)"
   ]
  },
  {
   "cell_type": "code",
   "execution_count": 17,
   "metadata": {
    "scrolled": true
   },
   "outputs": [
    {
     "data": {
      "text/plain": [
       "0.5558333333333333"
      ]
     },
     "execution_count": 17,
     "metadata": {},
     "output_type": "execute_result"
    }
   ],
   "source": [
    "#Train-test split\n",
    "X_tr, X_te, y_tr, y_te = train_test_split(X_train_sc, y_train , test_size = 0.20 , random_state=15)\n",
    "pipeline.fit(X_tr,y_tr)\n",
    "pipeline.score(X_te, y_te)"
   ]
  },
  {
   "cell_type": "markdown",
   "metadata": {},
   "source": [
    "On the full data"
   ]
  },
  {
   "cell_type": "code",
   "execution_count": 18,
   "metadata": {},
   "outputs": [],
   "source": [
    "pipeline.fit(X_train,y_train)\n",
    "y_vals2 = pipeline.predict(X_test)"
   ]
  },
  {
   "cell_type": "code",
   "execution_count": 20,
   "metadata": {},
   "outputs": [],
   "source": [
    "#export_to_csv(y_vals2, \"KNN_Predictions2.csv\")"
   ]
  },
  {
   "cell_type": "markdown",
   "metadata": {},
   "source": [
    "**Sanity Check: Doing Stuff Manually and incorporating a grid search**"
   ]
  },
  {
   "cell_type": "code",
   "execution_count": 21,
   "metadata": {
    "scrolled": true
   },
   "outputs": [],
   "source": [
    "#Train-test split\n",
    "X_tr, X_te, y_tr, y_te = train_test_split(X_train_sc, y_train , test_size = 0.20 , random_state=15)\n",
    "\n",
    "#Scale - normal \n",
    "scaler2 = QuantileTransformer(n_quantiles=100, output_distribution='normal')\n",
    "scaler2.fit(X_tr)\n",
    "X_tr_sc2 = scaler2.transform(X_tr)\n",
    "X_te_sc2 = scaler2.transform(X_te)\n",
    "\n",
    "#Scale - uniform\n",
    "scaler3 = QuantileTransformer(n_quantiles=100, output_distribution='uniform')\n",
    "scaler3.fit(X_tr)\n",
    "X_tr_sc3 = scaler3.transform(X_tr)\n",
    "X_te_sc3 = scaler3.transform(X_te)"
   ]
  },
  {
   "cell_type": "markdown",
   "metadata": {},
   "source": [
    "LDA, Grid Search, and fit on test for normal scaled data"
   ]
  },
  {
   "cell_type": "code",
   "execution_count": 22,
   "metadata": {},
   "outputs": [],
   "source": [
    "#For Normal Scaled data\n",
    "LDA = LinearDiscriminantAnalysis(n_components = 7)\n",
    "LDA.fit(X_tr_sc2, y_tr)\n",
    "Z_tr = LDA.transform(X_tr_sc2)\n",
    "Z_te = LDA.transform(X_te_sc2)"
   ]
  },
  {
   "cell_type": "code",
   "execution_count": 23,
   "metadata": {},
   "outputs": [
    {
     "name": "stdout",
     "output_type": "stream",
     "text": [
      "Mean Validation Accuracy: 0.714\n",
      "Config: {'n_neighbors': 62}\n"
     ]
    }
   ],
   "source": [
    "#Grid search\n",
    "KNN = KNeighborsClassifier()\n",
    "cv = RepeatedStratifiedKFold(n_splits = 4, n_repeats = 2, random_state = 25)\n",
    "results = KNN_grid_search(KNN, Z_tr, y_tr, cv, 100)"
   ]
  },
  {
   "cell_type": "code",
   "execution_count": 24,
   "metadata": {},
   "outputs": [
    {
     "data": {
      "text/plain": [
       "0.5558333333333333"
      ]
     },
     "execution_count": 24,
     "metadata": {},
     "output_type": "execute_result"
    }
   ],
   "source": [
    "#KNN\n",
    "KNN = KNeighborsClassifier(n_neighbors = 62)        \n",
    "KNN.fit(Z_tr,y_tr)\n",
    "KNN.score(Z_te,y_te) "
   ]
  },
  {
   "cell_type": "markdown",
   "metadata": {},
   "source": [
    "LDA, Grid search, and fit on test for uniform scaled data"
   ]
  },
  {
   "cell_type": "code",
   "execution_count": 145,
   "metadata": {},
   "outputs": [],
   "source": [
    "#For uniform Scaled data\n",
    "LDA = LinearDiscriminantAnalysis(n_components = 7)\n",
    "LDA.fit(X_tr_sc3, y_tr)\n",
    "Z_tr = LDA.transform(X_tr_sc3)\n",
    "Z_te = LDA.transform(X_te_sc3)"
   ]
  },
  {
   "cell_type": "code",
   "execution_count": 146,
   "metadata": {
    "scrolled": true
   },
   "outputs": [
    {
     "name": "stdout",
     "output_type": "stream",
     "text": [
      "Mean Validation Accuracy: 0.710\n",
      "Config: {'n_neighbors': 94}\n"
     ]
    }
   ],
   "source": [
    "#Grid search\n",
    "KNN = KNeighborsClassifier()\n",
    "cv = RepeatedStratifiedKFold(n_splits = 4, n_repeats = 1, random_state = 25)\n",
    "results = KNN_grid_search(KNN, Z_tr, y_tr, cv, 100)"
   ]
  },
  {
   "cell_type": "code",
   "execution_count": 147,
   "metadata": {},
   "outputs": [
    {
     "data": {
      "text/plain": [
       "0.5491666666666667"
      ]
     },
     "execution_count": 147,
     "metadata": {},
     "output_type": "execute_result"
    }
   ],
   "source": [
    "#KNN\n",
    "KNN = KNeighborsClassifier(n_neighbors = 94)        \n",
    "KNN.fit(Z_tr,y_tr)\n",
    "KNN.score(Z_te,y_te) "
   ]
  },
  {
   "cell_type": "markdown",
   "metadata": {},
   "source": [
    "Doing Normal procedure on the full data"
   ]
  },
  {
   "cell_type": "code",
   "execution_count": 26,
   "metadata": {},
   "outputs": [],
   "source": [
    "scaler4 = QuantileTransformer(n_quantiles=100, output_distribution='normal')\n",
    "scaler4.fit(X_train)\n",
    "X_tr_sc4 = scaler4.transform(X_train)\n",
    "X_te_sc4 = scaler4.transform(X_test)\n",
    "\n",
    "LDA = LinearDiscriminantAnalysis(n_components = 7)\n",
    "LDA.fit(X_tr_sc4, y_train)\n",
    "Z_tr = LDA.transform(X_tr_sc4)\n",
    "Z_te = LDA.transform(X_te_sc4)\n",
    "\n",
    "#KNN\n",
    "KNN = KNeighborsClassifier(n_neighbors = 62)        \n",
    "KNN.fit(Z_tr,y_train)\n",
    "y_vals3 = KNN.predict(Z_te)\n",
    "\n",
    "#export_to_csv(y_vals3, \"KNN_Predictions3.csv\")"
   ]
  },
  {
   "cell_type": "code",
   "execution_count": 27,
   "metadata": {},
   "outputs": [
    {
     "name": "stdout",
     "output_type": "stream",
     "text": [
      "0.758\n",
      "0.758\n",
      "1.0\n"
     ]
    }
   ],
   "source": [
    "#comparing predictions- as per 'sanity check', last 2 agree perfectly\n",
    "print(np.sum(np.equal(y_vals2, y_vals))/2000)\n",
    "print(np.sum(np.equal(y_vals3, y_vals))/2000)\n",
    "print(np.sum(np.equal(y_vals2, y_vals3))/2000)"
   ]
  },
  {
   "cell_type": "markdown",
   "metadata": {},
   "source": [
    "# Varying Distance Metric"
   ]
  },
  {
   "cell_type": "markdown",
   "metadata": {},
   "source": [
    "Try L1 Distance with Standard Scaler"
   ]
  },
  {
   "cell_type": "code",
   "execution_count": 11,
   "metadata": {},
   "outputs": [],
   "source": [
    "#Train-test split\n",
    "X_tr, X_te, y_tr, y_te = train_test_split(X_train_sc, y_train , test_size = 0.20 , random_state=15)\n",
    "\n",
    "#Fit LDA projections on training data, obtain projections for both train and test\n",
    "LDA = LinearDiscriminantAnalysis(n_components = 7)\n",
    "LDA.fit(X_tr, y_tr)\n",
    "Z_tr = LDA.transform(X_tr)\n",
    "Z_te = LDA.transform(X_te)"
   ]
  },
  {
   "cell_type": "code",
   "execution_count": 12,
   "metadata": {},
   "outputs": [
    {
     "name": "stdout",
     "output_type": "stream",
     "text": [
      "Mean Validation Accuracy: 0.702\n",
      "Config: {'n_neighbors': 88}\n"
     ]
    }
   ],
   "source": [
    "#cross validation for KNN\n",
    "KNN = KNeighborsClassifier(metric = 'minkowski', p = 1)\n",
    "cv = RepeatedStratifiedKFold(n_splits = 4, n_repeats = 1, random_state = 25)\n",
    "#will give splits of 1200 -- about size of our test set\n",
    "\n",
    "results = KNN_grid_search(KNN, Z_tr, y_tr, cv, 100)"
   ]
  },
  {
   "cell_type": "code",
   "execution_count": 13,
   "metadata": {},
   "outputs": [
    {
     "data": {
      "text/plain": [
       "0.5358333333333334"
      ]
     },
     "execution_count": 13,
     "metadata": {},
     "output_type": "execute_result"
    }
   ],
   "source": [
    "KNN = KNeighborsClassifier(n_neighbors = 88)        \n",
    "KNN.fit(Z_tr,y_tr)\n",
    "KNN.score(Z_te,y_te) "
   ]
  },
  {
   "cell_type": "markdown",
   "metadata": {},
   "source": [
    "Try L1 distance with quadratic scaler"
   ]
  },
  {
   "cell_type": "code",
   "execution_count": 14,
   "metadata": {},
   "outputs": [
    {
     "data": {
      "text/plain": [
       "0.5628888888888889"
      ]
     },
     "execution_count": 14,
     "metadata": {},
     "output_type": "execute_result"
    }
   ],
   "source": [
    "# define pipeline\n",
    "trans = QuantileTransformer(n_quantiles=100, output_distribution='normal')\n",
    "LDA = LinearDiscriminantAnalysis(n_components = 7)\n",
    "model = KNeighborsClassifier(n_neighbors = 88, metric = \"minkowski\", p = 1)\n",
    "\n",
    "pipeline = Pipeline(steps=[('t', trans), ('lda', LDA), ('m', model)])\n",
    "\n",
    "# evaluate the pipeline\n",
    "cv = RepeatedStratifiedKFold(n_splits=4, n_repeats=3, random_state=1)\n",
    "n_scores = cross_val_score(pipeline, X_train, y_train, scoring='accuracy', cv=cv, n_jobs=-1, error_score='raise')\n",
    "\n",
    "np.mean(n_scores)"
   ]
  },
  {
   "cell_type": "markdown",
   "metadata": {},
   "source": [
    "Grid search over distance metrics (p=1 to 10) and n_neighbors (1 to 100) (Standard Scaler) indicates 2 does best (what was already doing)"
   ]
  },
  {
   "cell_type": "code",
   "execution_count": 17,
   "metadata": {},
   "outputs": [
    {
     "name": "stdout",
     "output_type": "stream",
     "text": [
      "Mean Validation Accuracy: 0.705\n",
      "Config: {'n_neighbors': 59, 'p': 2}\n"
     ]
    }
   ],
   "source": [
    "KNN = KNeighborsClassifier(metric = 'minkowski', p = 1)\n",
    "cv = RepeatedStratifiedKFold(n_splits = 4, n_repeats = 1, random_state = 25)\n",
    "\n",
    "#Grid Search      \n",
    "grid = dict()\n",
    "grid['n_neighbors'] = np.arange(1,100) \n",
    "grid['p'] = np.arange(1,10) \n",
    "# define search\n",
    "search = GridSearchCV(KNN, grid, scoring='accuracy', cv=cv, n_jobs=-1)\n",
    "# perform the search\n",
    "results = search.fit(Z_tr, y_tr)\n",
    "print('Mean Validation Accuracy: %.3f' % results.best_score_)      \n",
    "print('Config: %s' % results.best_params_)\n"
   ]
  }
 ],
 "metadata": {
  "kernelspec": {
   "display_name": "Python 3",
   "language": "python",
   "name": "python3"
  },
  "language_info": {
   "codemirror_mode": {
    "name": "ipython",
    "version": 3
   },
   "file_extension": ".py",
   "mimetype": "text/x-python",
   "name": "python",
   "nbconvert_exporter": "python",
   "pygments_lexer": "ipython3",
   "version": "3.7.1"
  }
 },
 "nbformat": 4,
 "nbformat_minor": 4
}
